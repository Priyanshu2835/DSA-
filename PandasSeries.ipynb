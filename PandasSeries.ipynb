{
  "nbformat": 4,
  "nbformat_minor": 0,
  "metadata": {
    "colab": {
      "provenance": [],
      "authorship_tag": "ABX9TyP26idOq9UNAw2YMYz5vZ/C",
      "include_colab_link": true
    },
    "kernelspec": {
      "name": "python3",
      "display_name": "Python 3"
    },
    "language_info": {
      "name": "python"
    }
  },
  "cells": [
    {
      "cell_type": "markdown",
      "metadata": {
        "id": "view-in-github",
        "colab_type": "text"
      },
      "source": [
        "<a href=\"https://colab.research.google.com/github/Priyanshu2835/DSA-/blob/main/PandasSeries.ipynb\" target=\"_parent\"><img src=\"https://colab.research.google.com/assets/colab-badge.svg\" alt=\"Open In Colab\"/></a>"
      ]
    },
    {
      "cell_type": "code",
      "source": [],
      "metadata": {
        "id": "PZF7GhHqDwKS"
      },
      "execution_count": null,
      "outputs": []
    },
    {
      "cell_type": "code",
      "execution_count": null,
      "metadata": {
        "colab": {
          "base_uri": "https://localhost:8080/"
        },
        "id": "8RCIDwszd3ZR",
        "outputId": "a88ed7b0-3f64-459b-f677-6e87bbaa83a1"
      },
      "outputs": [
        {
          "output_type": "stream",
          "name": "stdout",
          "text": [
            "0    1\n",
            "1    2\n",
            "2    3\n",
            "3    4\n",
            "4    5\n",
            "dtype: int64\n",
            "3\n"
          ]
        }
      ],
      "source": [
        "import pandas as pd\n",
        "a=pd.Series([1,2,3,4,5])\n",
        "print(a)\n",
        "print(a[2])\n"
      ]
    },
    {
      "cell_type": "code",
      "source": [
        "import pandas as pd\n",
        "a=pd.Series([1,2,3,4,5],index=['a','b','c','d','e'],dtype=\"float\",name=\"Priyanshu\")\n",
        "print(a)"
      ],
      "metadata": {
        "colab": {
          "base_uri": "https://localhost:8080/"
        },
        "id": "jhR8cQBbD6zf",
        "outputId": "787cf3dd-1cf8-4038-dc56-6f9a567bbc66"
      },
      "execution_count": null,
      "outputs": [
        {
          "output_type": "stream",
          "name": "stdout",
          "text": [
            "a    1.0\n",
            "b    2.0\n",
            "c    3.0\n",
            "d    4.0\n",
            "e    5.0\n",
            "Name: Priyanshu, dtype: float64\n"
          ]
        }
      ]
    },
    {
      "cell_type": "code",
      "source": [
        "import pandas as pd\n",
        "a={\"Name \":['Priyanshu','Akash','Varun'],\"Roll \":[1,2,3],\"Marks \":[91,93,89]}\n",
        "var=pd.Series(a);\n",
        "print(var)"
      ],
      "metadata": {
        "colab": {
          "base_uri": "https://localhost:8080/"
        },
        "id": "FU8yRprsFQLN",
        "outputId": "d306cbf9-c8d1-4bf9-b2bb-83656b974374"
      },
      "execution_count": null,
      "outputs": [
        {
          "output_type": "stream",
          "name": "stdout",
          "text": [
            "Name      [Priyanshu, Akash, Varun]\n",
            "Roll                      [1, 2, 3]\n",
            "Marks                  [91, 93, 89]\n",
            "dtype: object\n"
          ]
        }
      ]
    },
    {
      "cell_type": "code",
      "source": [
        "import pandas as pd\n",
        "p=pd.Series(12,index=['a','b','c','d','e'])\n",
        "print(p)"
      ],
      "metadata": {
        "colab": {
          "base_uri": "https://localhost:8080/"
        },
        "id": "vr21CDITE0Mh",
        "outputId": "8b484bf9-6c29-41d9-c92a-2b1bd2a9d207"
      },
      "execution_count": null,
      "outputs": [
        {
          "output_type": "stream",
          "name": "stdout",
          "text": [
            "a    12\n",
            "b    12\n",
            "c    12\n",
            "d    12\n",
            "e    12\n",
            "dtype: int64\n"
          ]
        }
      ]
    },
    {
      "cell_type": "code",
      "source": [
        "import numpy as np\n",
        "arr=np.array([1,2,3,4,5,6])\n",
        "arr1=np.array([1,2,3,4,5,6])\n",
        "print(arr+arr1)\n"
      ],
      "metadata": {
        "colab": {
          "base_uri": "https://localhost:8080/"
        },
        "id": "LZbeh4L6Fecn",
        "outputId": "47b4635f-bc94-4879-c888-b088fa9bc0d4"
      },
      "execution_count": null,
      "outputs": [
        {
          "output_type": "stream",
          "name": "stdout",
          "text": [
            "[ 2  4  6  8 10 12]\n"
          ]
        }
      ]
    },
    {
      "cell_type": "code",
      "source": [
        "import pandas as pd\n",
        "arr=pd.Series([1,2,3,4,5])\n",
        "arr1=pd.Series([1,2,3,4])\n",
        "print(arr+arr1)"
      ],
      "metadata": {
        "colab": {
          "base_uri": "https://localhost:8080/"
        },
        "id": "ABMvwGSCGKAP",
        "outputId": "19fa8ee3-b54a-43d2-fe1c-db2aeeef331f"
      },
      "execution_count": null,
      "outputs": [
        {
          "output_type": "stream",
          "name": "stdout",
          "text": [
            "0    2.0\n",
            "1    4.0\n",
            "2    6.0\n",
            "3    8.0\n",
            "4    NaN\n",
            "dtype: float64\n"
          ]
        }
      ]
    }
  ]
}